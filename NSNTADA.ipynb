{
  "nbformat": 4,
  "nbformat_minor": 0,
  "metadata": {
    "colab": {
      "name": "NSNTADA.ipynb",
      "provenance": [],
      "collapsed_sections": [],
      "machine_shape": "hm",
      "authorship_tag": "ABX9TyNoXo/I+zmNbo2wB6MzrVK0",
      "include_colab_link": true
    },
    "kernelspec": {
      "name": "python3",
      "display_name": "Python 3"
    },
    "accelerator": "GPU"
  },
  "cells": [
    {
      "cell_type": "markdown",
      "metadata": {
        "id": "view-in-github",
        "colab_type": "text"
      },
      "source": [
        "<a href=\"https://colab.research.google.com/github/Redmancometh/styleganada/blob/main/NSNTADA.ipynb\" target=\"_parent\"><img src=\"https://colab.research.google.com/assets/colab-badge.svg\" alt=\"Open In Colab\"/></a>"
      ]
    },
    {
      "cell_type": "markdown",
      "metadata": {
        "id": "BccTAvI8KQaT"
      },
      "source": [
        "This will authenticate with google cloud storage and mount\n",
        "\n"
      ]
    },
    {
      "cell_type": "code",
      "metadata": {
        "id": "-Nwf_oh7J9TN",
        "colab": {
          "base_uri": "https://localhost:8080/"
        },
        "outputId": "31fda5f6-e0c9-4f18-9b5f-cd70a06503cc"
      },
      "source": [
        "from google.colab import drive\n",
        "drive.mount('/content/drive')"
      ],
      "execution_count": null,
      "outputs": [
        {
          "output_type": "stream",
          "text": [
            "Mounted at /content/drive\n"
          ],
          "name": "stdout"
        }
      ]
    },
    {
      "cell_type": "markdown",
      "metadata": {
        "id": "yOCIDyKMKLhk"
      },
      "source": [
        "Test GPU and install tensorflow\n",
        "\n",
        "---\n",
        "\n",
        "\n"
      ]
    },
    {
      "cell_type": "code",
      "metadata": {
        "id": "ZbTM3_HXJWXF",
        "colab": {
          "base_uri": "https://localhost:8080/"
        },
        "outputId": "be138c4c-6132-4f84-ddbc-346452ed1233"
      },
      "source": [
        "%tensorflow_version 1.14.0\n",
        "import tensorflow as tf\n",
        "!git clone https://github.com/Redmancometh/nsgan.git\n",
        "%cd nsgan/\n",
        "!nvcc \"test_nvcc.cu\" -o test_nvcc -run\n",
        "\n",
        "print('Tensorflow version: {}'.format(tf.__version__) )\n",
        "!nvidia-smi -L\n",
        "print('GPU Identified at: {}'.format(tf.test.gpu_device_name()))"
      ],
      "execution_count": null,
      "outputs": [
        {
          "output_type": "stream",
          "text": [
            "`%tensorflow_version` only switches the major version: 1.x or 2.x.\n",
            "You set: `1.14.0`. This will be interpreted as: `1.x`.\n",
            "\n",
            "\n",
            "TensorFlow 1.x selected.\n",
            "Cloning into 'nsgan'...\n",
            "remote: Enumerating objects: 49, done.\u001b[K\n",
            "remote: Counting objects: 100% (49/49), done.\u001b[K\n",
            "remote: Compressing objects: 100% (42/42), done.\u001b[K\n",
            "remote: Total 49 (delta 8), reused 47 (delta 7), pack-reused 0\u001b[K\n",
            "Unpacking objects: 100% (49/49), done.\n",
            "/content/nsgan\n",
            "\u001b[01m\u001b[Kgcc:\u001b[m\u001b[K \u001b[01;31m\u001b[Kerror: \u001b[m\u001b[Ktest_nvcc.cu: No such file or directory\n",
            "\u001b[01m\u001b[Kgcc:\u001b[m\u001b[K \u001b[01;35m\u001b[Kwarning: \u001b[m\u001b[K‘\u001b[01m\u001b[K-x c++\u001b[m\u001b[K’ after last input file has no effect\n",
            "\u001b[01m\u001b[Kgcc:\u001b[m\u001b[K \u001b[01;31m\u001b[Kfatal error: \u001b[m\u001b[Kno input files\n",
            "compilation terminated.\n",
            "Tensorflow version: 1.15.2\n",
            "GPU 0: Tesla V100-SXM2-16GB (UUID: GPU-8590636a-b18a-ca4f-c9d4-92116a4086f1)\n",
            "GPU Identified at: /device:GPU:0\n"
          ],
          "name": "stdout"
        }
      ]
    },
    {
      "cell_type": "markdown",
      "metadata": {
        "id": "D2nEcLZJ0wPF"
      },
      "source": [
        "Convert dataset from JPG to *PKL*\n",
        "\n"
      ]
    },
    {
      "cell_type": "code",
      "metadata": {
        "id": "td0wA-Yy73ZM"
      },
      "source": [
        "!python dataset_tool.py create_from_images \"/content/drive/My Drive/training2\" \"/content/drive/My Drive/newtrainingdata\""
      ],
      "execution_count": null,
      "outputs": []
    },
    {
      "cell_type": "markdown",
      "metadata": {
        "id": "DB5MW_MYKjWP"
      },
      "source": [
        "Run training with snapshot.pkl in root drive dir\n"
      ]
    },
    {
      "cell_type": "code",
      "metadata": {
        "id": "uGxHp41XN58M"
      },
      "source": [
        "!python train.py --data=\"/content/drive/My Drive/training2\" --min_w=5 --min_h=4 --res_log2=8 --use_raw=0 --metrics none --kimg 300 --outdir \"/content/drive/My Drive/newresults\" --gamma=10 --aug=ada --target=0.75 --resume \"/content/drive/MyDrive/snapshot.pkl\"\n",
        "\n"
      ],
      "execution_count": null,
      "outputs": []
    },
    {
      "cell_type": "markdown",
      "metadata": {
        "id": "COKZF7PzzqA6"
      },
      "source": [
        "Generate Images"
      ]
    },
    {
      "cell_type": "code",
      "metadata": {
        "id": "if782utGzFyS"
      },
      "source": [
        "!python generate.py --trunc 0.2 --seeds 55-60 --outdir \"/content/drive/My Drive/outputtest0.25\" --network \"/content/drive/My Drive/snapshot.pkl\""
      ],
      "execution_count": null,
      "outputs": []
    }
  ]
}